{
 "cells": [
  {
   "cell_type": "markdown",
   "id": "38a6dbb4-6f55-422a-875a-99b8301b0685",
   "metadata": {},
   "source": [
    "Why we use file .h5"
   ]
  },
  {
   "cell_type": "markdown",
   "id": "9dbd46f3-76a8-4059-b017-33f2830eee8d",
   "metadata": {},
   "source": [
    "*HETEROGENEOUS DATA* : HDF® supports n-dimensional datasets and each element in the dataset may itself be a complex object.\n",
    "\n",
    "*EASY SHARING* : HDF® is portable, with no vendor lock-in, and is a self-describing file format, meaning everything all data and metadata can be passed along in one file.\n",
    "\n",
    "*CROSS PLATFORM* : HDF® is a software library that runs on a range of computational platforms, from laptops to massively parallel systems, and implements a high-level API with C, C++, Fortran 90, and Java interfaces. HDF has a large ecosystem with 700+ Github projects.\n",
    "\n",
    "*FAST I/O* : HDF® is high-performance I/O with a rich set of integrated performance features that allow for access time and storage space optimizations.\n",
    "\n",
    "*BIG DATA* :\n",
    "There is no limit on the number or size of data objects in the collection, giving great flexibility for big data.\n",
    "\n",
    "KEEP METADATA WITH DATA\n",
    "HDF5® allows you to keep the metadata with the data, streamlining data lifecycles and pipelines."
   ]
  }
 ],
 "metadata": {
  "kernelspec": {
   "display_name": "Python 3 (ipykernel)",
   "language": "python",
   "name": "python3"
  },
  "language_info": {
   "codemirror_mode": {
    "name": "ipython",
    "version": 3
   },
   "file_extension": ".py",
   "mimetype": "text/x-python",
   "name": "python",
   "nbconvert_exporter": "python",
   "pygments_lexer": "ipython3",
   "version": "3.10.8"
  }
 },
 "nbformat": 4,
 "nbformat_minor": 5
}
