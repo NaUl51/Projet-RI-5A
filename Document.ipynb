{
 "cells": [
  {
   "cell_type": "markdown",
   "id": "38a6dbb4-6f55-422a-875a-99b8301b0685",
   "metadata": {},
   "source": [
    "Why we use file .h5"
   ]
  },
  {
   "cell_type": "markdown",
   "id": "9dbd46f3-76a8-4059-b017-33f2830eee8d",
   "metadata": {},
   "source": [
    "*HETEROGENEOUS DATA* : HDF® supports n-dimensional datasets and each element in the dataset may itself be a complex object.\n",
    "\n",
    "*EASY SHARING* : HDF® is portable, with no vendor lock-in, and is a self-describing file format, meaning everything all data and metadata can be passed along in one file.\n",
    "\n",
    "*CROSS PLATFORM* : HDF® is a software library that runs on a range of computational platforms, from laptops to massively parallel systems, and implements a high-level API with C, C++, Fortran 90, and Java interfaces. HDF has a large ecosystem with 700+ Github projects.\n",
    "\n",
    "*FAST I/O* : HDF® is high-performance I/O with a rich set of integrated performance features that allow for access time and storage space optimizations.\n",
    "\n",
    "*BIG DATA* :\n",
    "There is no limit on the number or size of data objects in the collection, giving great flexibility for big data.\n",
    "\n",
    "KEEP METADATA WITH DATA\n",
    "HDF5® allows you to keep the metadata with the data, streamlining data lifecycles and pipelines."
   ]
  },
  {
   "cell_type": "markdown",
   "id": "2c3056ad",
   "metadata": {},
   "source": [
    "Un fichier .h5 (HDF5 - Hierarchical Data Format version 5) a une structure arborescente, similaire à un système de fichiers, qui permet de stocker et organiser les données de manière flexible. Voici les principaux composants d'un fichier HDF5 :\n",
    "\n",
    "1. Groupes (Groups)\n",
    "Groups : ce sont des dossiers dans le fichier HDF5, utilisés pour organiser les données de manière hiérarchique.\n",
    "Chaque groupe peut contenir des sous-groupes, formant ainsi une structure arborescente.\n",
    "Le groupe racine, symbolisé par /, existe toujours et constitue la base de l’arborescence.\n",
    "2. Jeux de données (Datasets)\n",
    "Datasets : ils stockent les données réelles dans le fichier HDF5.\n",
    "Les données dans les datasets peuvent être de tout type (entiers, réels, chaînes de caractères, tableaux, etc.).\n",
    "Un dataset est souvent un tableau multidimensionnel, adapté pour des applications scientifiques et techniques nécessitant des structures de données complexes.\n",
    "3. Attributs (Attributes)\n",
    "Attributes : ce sont des métadonnées qui accompagnent les groupes et les datasets.\n",
    "Ils fournissent des informations descriptives (comme les unités de mesure, la source des données, ou la date de collecte).\n",
    "Contrairement aux datasets, les attributs sont de petites données, typiquement des chaînes de caractères ou des valeurs simples."
   ]
  },
  {
   "cell_type": "markdown",
   "id": "853889cf",
   "metadata": {},
   "source": []
  },
  {
   "cell_type": "markdown",
   "id": "4a07071c",
   "metadata": {},
   "source": []
  },
  {
   "cell_type": "markdown",
   "id": "8b6ff8c2",
   "metadata": {},
   "source": []
  }
 ],
 "metadata": {
  "kernelspec": {
   "display_name": "Python 3 (ipykernel)",
   "language": "python",
   "name": "python3"
  },
  "language_info": {
   "codemirror_mode": {
    "name": "ipython",
    "version": 3
   },
   "file_extension": ".py",
   "mimetype": "text/x-python",
   "name": "python",
   "nbconvert_exporter": "python",
   "pygments_lexer": "ipython3",
   "version": "3.10.8"
  }
 },
 "nbformat": 4,
 "nbformat_minor": 5
}
