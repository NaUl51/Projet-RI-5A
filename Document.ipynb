{
 "cells": [
  {
   "cell_type": "markdown",
   "id": "853889cf",
   "metadata": {},
   "source": [
    "Dataset:\n",
    "    949 scenarios normaux: 135 variables et 3583 points temporels\n",
    "    36 scenarios anormaux: 137 variables et 3583 points temporels\n"
   ]
  },
  {
   "cell_type": "markdown",
   "id": "4a07071c",
   "metadata": {},
   "source": []
  },
  {
   "cell_type": "markdown",
   "id": "8b6ff8c2",
   "metadata": {},
   "source": []
  }
 ],
 "metadata": {
  "kernelspec": {
   "display_name": "Python 3 (ipykernel)",
   "language": "python",
   "name": "python3"
  },
  "language_info": {
   "codemirror_mode": {
    "name": "ipython",
    "version": 3
   },
   "file_extension": ".py",
   "mimetype": "text/x-python",
   "name": "python",
   "nbconvert_exporter": "python",
   "pygments_lexer": "ipython3",
   "version": "3.10.8"
  }
 },
 "nbformat": 4,
 "nbformat_minor": 5
}
